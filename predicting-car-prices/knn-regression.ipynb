{
 "cells": [
  {
   "cell_type": "markdown",
   "metadata": {},
   "source": [
    "# Predicting Car Prices"
   ]
  },
  {
   "cell_type": "markdown",
   "metadata": {},
   "source": [
    "-----\n",
    "\n",
    "The goal of this project is to predict the price of a car from a set of attributes describing that car. This will be done by fitting a KNN regressor to a dataset with attributes for different cars.\n",
    "\n",
    "\n",
    "-----"
   ]
  },
  {
   "cell_type": "markdown",
   "metadata": {},
   "source": [
    "# Imports"
   ]
  },
  {
   "cell_type": "code",
   "execution_count": 194,
   "metadata": {},
   "outputs": [],
   "source": [
    "import pandas as pd\n",
    "import numpy as np\n",
    "\n",
    "import matplotlib.pyplot as plt\n",
    "\n",
    "from sklearn.preprocessing import normalize\n",
    "from sklearn.model_selection import train_test_split\n",
    "from sklearn.neighbors import KNeighborsRegressor\n",
    "from sklearn.metrics import mean_squared_error\n",
    "\n",
    "from math import sqrt"
   ]
  },
  {
   "cell_type": "markdown",
   "metadata": {},
   "source": [
    "# Data Exploration"
   ]
  },
  {
   "cell_type": "code",
   "execution_count": 195,
   "metadata": {},
   "outputs": [],
   "source": [
    "#column names taken from datset documentation\n",
    "cols = ['symboling', 'normalized-losses', 'make', 'fuel-type', 'aspiration', 'num-of-doors', 'body-style', \n",
    "        'drive-wheels', 'engine-location', 'wheel-base', 'length', 'width', 'height', 'curb-weight', \n",
    "        'engine-type', 'num-of-cylinders', 'engine-size', 'fuel-system', 'bore', 'stroke', 'compression-rate', \n",
    "        'horsepower', 'peak-rpm', 'city-mpg', 'highway-mpg', 'price']\n",
    "\n",
    "cars = pd.read_csv('./imports-85.data', names = cols)"
   ]
  },
  {
   "cell_type": "code",
   "execution_count": 196,
   "metadata": {},
   "outputs": [
    {
     "data": {
      "text/html": [
       "<div>\n",
       "<style scoped>\n",
       "    .dataframe tbody tr th:only-of-type {\n",
       "        vertical-align: middle;\n",
       "    }\n",
       "\n",
       "    .dataframe tbody tr th {\n",
       "        vertical-align: top;\n",
       "    }\n",
       "\n",
       "    .dataframe thead th {\n",
       "        text-align: right;\n",
       "    }\n",
       "</style>\n",
       "<table border=\"1\" class=\"dataframe\">\n",
       "  <thead>\n",
       "    <tr style=\"text-align: right;\">\n",
       "      <th></th>\n",
       "      <th>symboling</th>\n",
       "      <th>normalized-losses</th>\n",
       "      <th>make</th>\n",
       "      <th>fuel-type</th>\n",
       "      <th>aspiration</th>\n",
       "      <th>num-of-doors</th>\n",
       "      <th>body-style</th>\n",
       "      <th>drive-wheels</th>\n",
       "      <th>engine-location</th>\n",
       "      <th>wheel-base</th>\n",
       "      <th>...</th>\n",
       "      <th>engine-size</th>\n",
       "      <th>fuel-system</th>\n",
       "      <th>bore</th>\n",
       "      <th>stroke</th>\n",
       "      <th>compression-rate</th>\n",
       "      <th>horsepower</th>\n",
       "      <th>peak-rpm</th>\n",
       "      <th>city-mpg</th>\n",
       "      <th>highway-mpg</th>\n",
       "      <th>price</th>\n",
       "    </tr>\n",
       "  </thead>\n",
       "  <tbody>\n",
       "    <tr>\n",
       "      <th>0</th>\n",
       "      <td>3</td>\n",
       "      <td>?</td>\n",
       "      <td>alfa-romero</td>\n",
       "      <td>gas</td>\n",
       "      <td>std</td>\n",
       "      <td>two</td>\n",
       "      <td>convertible</td>\n",
       "      <td>rwd</td>\n",
       "      <td>front</td>\n",
       "      <td>88.6</td>\n",
       "      <td>...</td>\n",
       "      <td>130</td>\n",
       "      <td>mpfi</td>\n",
       "      <td>3.47</td>\n",
       "      <td>2.68</td>\n",
       "      <td>9.0</td>\n",
       "      <td>111</td>\n",
       "      <td>5000</td>\n",
       "      <td>21</td>\n",
       "      <td>27</td>\n",
       "      <td>13495</td>\n",
       "    </tr>\n",
       "    <tr>\n",
       "      <th>1</th>\n",
       "      <td>3</td>\n",
       "      <td>?</td>\n",
       "      <td>alfa-romero</td>\n",
       "      <td>gas</td>\n",
       "      <td>std</td>\n",
       "      <td>two</td>\n",
       "      <td>convertible</td>\n",
       "      <td>rwd</td>\n",
       "      <td>front</td>\n",
       "      <td>88.6</td>\n",
       "      <td>...</td>\n",
       "      <td>130</td>\n",
       "      <td>mpfi</td>\n",
       "      <td>3.47</td>\n",
       "      <td>2.68</td>\n",
       "      <td>9.0</td>\n",
       "      <td>111</td>\n",
       "      <td>5000</td>\n",
       "      <td>21</td>\n",
       "      <td>27</td>\n",
       "      <td>16500</td>\n",
       "    </tr>\n",
       "    <tr>\n",
       "      <th>2</th>\n",
       "      <td>1</td>\n",
       "      <td>?</td>\n",
       "      <td>alfa-romero</td>\n",
       "      <td>gas</td>\n",
       "      <td>std</td>\n",
       "      <td>two</td>\n",
       "      <td>hatchback</td>\n",
       "      <td>rwd</td>\n",
       "      <td>front</td>\n",
       "      <td>94.5</td>\n",
       "      <td>...</td>\n",
       "      <td>152</td>\n",
       "      <td>mpfi</td>\n",
       "      <td>2.68</td>\n",
       "      <td>3.47</td>\n",
       "      <td>9.0</td>\n",
       "      <td>154</td>\n",
       "      <td>5000</td>\n",
       "      <td>19</td>\n",
       "      <td>26</td>\n",
       "      <td>16500</td>\n",
       "    </tr>\n",
       "    <tr>\n",
       "      <th>3</th>\n",
       "      <td>2</td>\n",
       "      <td>164</td>\n",
       "      <td>audi</td>\n",
       "      <td>gas</td>\n",
       "      <td>std</td>\n",
       "      <td>four</td>\n",
       "      <td>sedan</td>\n",
       "      <td>fwd</td>\n",
       "      <td>front</td>\n",
       "      <td>99.8</td>\n",
       "      <td>...</td>\n",
       "      <td>109</td>\n",
       "      <td>mpfi</td>\n",
       "      <td>3.19</td>\n",
       "      <td>3.40</td>\n",
       "      <td>10.0</td>\n",
       "      <td>102</td>\n",
       "      <td>5500</td>\n",
       "      <td>24</td>\n",
       "      <td>30</td>\n",
       "      <td>13950</td>\n",
       "    </tr>\n",
       "    <tr>\n",
       "      <th>4</th>\n",
       "      <td>2</td>\n",
       "      <td>164</td>\n",
       "      <td>audi</td>\n",
       "      <td>gas</td>\n",
       "      <td>std</td>\n",
       "      <td>four</td>\n",
       "      <td>sedan</td>\n",
       "      <td>4wd</td>\n",
       "      <td>front</td>\n",
       "      <td>99.4</td>\n",
       "      <td>...</td>\n",
       "      <td>136</td>\n",
       "      <td>mpfi</td>\n",
       "      <td>3.19</td>\n",
       "      <td>3.40</td>\n",
       "      <td>8.0</td>\n",
       "      <td>115</td>\n",
       "      <td>5500</td>\n",
       "      <td>18</td>\n",
       "      <td>22</td>\n",
       "      <td>17450</td>\n",
       "    </tr>\n",
       "  </tbody>\n",
       "</table>\n",
       "<p>5 rows × 26 columns</p>\n",
       "</div>"
      ],
      "text/plain": [
       "   symboling normalized-losses         make fuel-type aspiration num-of-doors  \\\n",
       "0          3                 ?  alfa-romero       gas        std          two   \n",
       "1          3                 ?  alfa-romero       gas        std          two   \n",
       "2          1                 ?  alfa-romero       gas        std          two   \n",
       "3          2               164         audi       gas        std         four   \n",
       "4          2               164         audi       gas        std         four   \n",
       "\n",
       "    body-style drive-wheels engine-location  wheel-base  ...  engine-size  \\\n",
       "0  convertible          rwd           front        88.6  ...          130   \n",
       "1  convertible          rwd           front        88.6  ...          130   \n",
       "2    hatchback          rwd           front        94.5  ...          152   \n",
       "3        sedan          fwd           front        99.8  ...          109   \n",
       "4        sedan          4wd           front        99.4  ...          136   \n",
       "\n",
       "   fuel-system  bore  stroke compression-rate horsepower  peak-rpm city-mpg  \\\n",
       "0         mpfi  3.47    2.68              9.0        111      5000       21   \n",
       "1         mpfi  3.47    2.68              9.0        111      5000       21   \n",
       "2         mpfi  2.68    3.47              9.0        154      5000       19   \n",
       "3         mpfi  3.19    3.40             10.0        102      5500       24   \n",
       "4         mpfi  3.19    3.40              8.0        115      5500       18   \n",
       "\n",
       "  highway-mpg  price  \n",
       "0          27  13495  \n",
       "1          27  16500  \n",
       "2          26  16500  \n",
       "3          30  13950  \n",
       "4          22  17450  \n",
       "\n",
       "[5 rows x 26 columns]"
      ]
     },
     "execution_count": 196,
     "metadata": {},
     "output_type": "execute_result"
    }
   ],
   "source": [
    "cars.head()"
   ]
  },
  {
   "cell_type": "markdown",
   "metadata": {},
   "source": [
    "We can see that the normalized-losses column uses the '?' character to denote nan values. This is probably used throughout the dataset. I'll replace these with np.nan values."
   ]
  },
  {
   "cell_type": "code",
   "execution_count": 197,
   "metadata": {},
   "outputs": [],
   "source": [
    "cars = cars.replace(to_replace = '?', value = np.nan).copy()"
   ]
  },
  {
   "cell_type": "code",
   "execution_count": 198,
   "metadata": {
    "scrolled": true
   },
   "outputs": [
    {
     "name": "stdout",
     "output_type": "stream",
     "text": [
      "<class 'pandas.core.frame.DataFrame'>\n",
      "RangeIndex: 205 entries, 0 to 204\n",
      "Data columns (total 26 columns):\n",
      " #   Column             Non-Null Count  Dtype  \n",
      "---  ------             --------------  -----  \n",
      " 0   symboling          205 non-null    int64  \n",
      " 1   normalized-losses  164 non-null    object \n",
      " 2   make               205 non-null    object \n",
      " 3   fuel-type          205 non-null    object \n",
      " 4   aspiration         205 non-null    object \n",
      " 5   num-of-doors       203 non-null    object \n",
      " 6   body-style         205 non-null    object \n",
      " 7   drive-wheels       205 non-null    object \n",
      " 8   engine-location    205 non-null    object \n",
      " 9   wheel-base         205 non-null    float64\n",
      " 10  length             205 non-null    float64\n",
      " 11  width              205 non-null    float64\n",
      " 12  height             205 non-null    float64\n",
      " 13  curb-weight        205 non-null    int64  \n",
      " 14  engine-type        205 non-null    object \n",
      " 15  num-of-cylinders   205 non-null    object \n",
      " 16  engine-size        205 non-null    int64  \n",
      " 17  fuel-system        205 non-null    object \n",
      " 18  bore               201 non-null    object \n",
      " 19  stroke             201 non-null    object \n",
      " 20  compression-rate   205 non-null    float64\n",
      " 21  horsepower         203 non-null    object \n",
      " 22  peak-rpm           203 non-null    object \n",
      " 23  city-mpg           205 non-null    int64  \n",
      " 24  highway-mpg        205 non-null    int64  \n",
      " 25  price              201 non-null    object \n",
      "dtypes: float64(5), int64(5), object(16)\n",
      "memory usage: 41.8+ KB\n"
     ]
    }
   ],
   "source": [
    "cars.info()"
   ]
  },
  {
   "cell_type": "code",
   "execution_count": 199,
   "metadata": {},
   "outputs": [
    {
     "data": {
      "text/plain": [
       "(205, 26)"
      ]
     },
     "execution_count": 199,
     "metadata": {},
     "output_type": "execute_result"
    }
   ],
   "source": [
    "cars.shape"
   ]
  },
  {
   "cell_type": "markdown",
   "metadata": {},
   "source": [
    "Looking at these data types, its clear some of the object columns should be read as floats. I'll change this manually"
   ]
  },
  {
   "cell_type": "code",
   "execution_count": 200,
   "metadata": {},
   "outputs": [
    {
     "data": {
      "text/plain": [
       "symboling                2\n",
       "normalized-losses      164\n",
       "make                  audi\n",
       "fuel-type              gas\n",
       "aspiration             std\n",
       "num-of-doors          four\n",
       "body-style           sedan\n",
       "drive-wheels           fwd\n",
       "engine-location      front\n",
       "wheel-base            99.8\n",
       "length               176.6\n",
       "width                 66.2\n",
       "height                54.3\n",
       "curb-weight           2337\n",
       "engine-type            ohc\n",
       "num-of-cylinders      four\n",
       "engine-size            109\n",
       "fuel-system           mpfi\n",
       "bore                  3.19\n",
       "stroke                3.40\n",
       "compression-rate        10\n",
       "horsepower             102\n",
       "peak-rpm              5500\n",
       "city-mpg                24\n",
       "highway-mpg             30\n",
       "price                13950\n",
       "Name: 3, dtype: object"
      ]
     },
     "execution_count": 200,
     "metadata": {},
     "output_type": "execute_result"
    }
   ],
   "source": [
    "cars.loc[3]"
   ]
  },
  {
   "cell_type": "code",
   "execution_count": 201,
   "metadata": {},
   "outputs": [],
   "source": [
    "numeric_corrected_cols = ['symboling', 'normalized-losses', 'bore', 'stroke', 'horsepower', 'peak-rpm']\n",
    "cars[numeric_corrected_cols] = cars[numeric_corrected_cols].astype(float)"
   ]
  },
  {
   "cell_type": "code",
   "execution_count": 202,
   "metadata": {},
   "outputs": [
    {
     "name": "stdout",
     "output_type": "stream",
     "text": [
      "<class 'pandas.core.frame.DataFrame'>\n",
      "RangeIndex: 205 entries, 0 to 204\n",
      "Data columns (total 26 columns):\n",
      " #   Column             Non-Null Count  Dtype  \n",
      "---  ------             --------------  -----  \n",
      " 0   symboling          205 non-null    float64\n",
      " 1   normalized-losses  164 non-null    float64\n",
      " 2   make               205 non-null    object \n",
      " 3   fuel-type          205 non-null    object \n",
      " 4   aspiration         205 non-null    object \n",
      " 5   num-of-doors       203 non-null    object \n",
      " 6   body-style         205 non-null    object \n",
      " 7   drive-wheels       205 non-null    object \n",
      " 8   engine-location    205 non-null    object \n",
      " 9   wheel-base         205 non-null    float64\n",
      " 10  length             205 non-null    float64\n",
      " 11  width              205 non-null    float64\n",
      " 12  height             205 non-null    float64\n",
      " 13  curb-weight        205 non-null    int64  \n",
      " 14  engine-type        205 non-null    object \n",
      " 15  num-of-cylinders   205 non-null    object \n",
      " 16  engine-size        205 non-null    int64  \n",
      " 17  fuel-system        205 non-null    object \n",
      " 18  bore               201 non-null    float64\n",
      " 19  stroke             201 non-null    float64\n",
      " 20  compression-rate   205 non-null    float64\n",
      " 21  horsepower         203 non-null    float64\n",
      " 22  peak-rpm           203 non-null    float64\n",
      " 23  city-mpg           205 non-null    int64  \n",
      " 24  highway-mpg        205 non-null    int64  \n",
      " 25  price              201 non-null    object \n",
      "dtypes: float64(11), int64(4), object(11)\n",
      "memory usage: 41.8+ KB\n"
     ]
    }
   ],
   "source": [
    "cars.info()"
   ]
  },
  {
   "cell_type": "markdown",
   "metadata": {},
   "source": [
    "For now, I will choose only numeric columns to build the regression model. This will serve as a baseline if I choose to later incoorporate the categorical columns. "
   ]
  },
  {
   "cell_type": "code",
   "execution_count": 203,
   "metadata": {},
   "outputs": [],
   "source": [
    "#first remove the target class 'price'\n",
    "price = cars['price'].astype(float)"
   ]
  },
  {
   "cell_type": "code",
   "execution_count": 204,
   "metadata": {},
   "outputs": [],
   "source": [
    "#now remove non-float columns\n",
    "cars_numeric = cars.select_dtypes(exclude = object).astype(float)"
   ]
  },
  {
   "cell_type": "code",
   "execution_count": 205,
   "metadata": {},
   "outputs": [
    {
     "name": "stdout",
     "output_type": "stream",
     "text": [
      "<class 'pandas.core.frame.DataFrame'>\n",
      "RangeIndex: 205 entries, 0 to 204\n",
      "Data columns (total 15 columns):\n",
      " #   Column             Non-Null Count  Dtype  \n",
      "---  ------             --------------  -----  \n",
      " 0   symboling          205 non-null    float64\n",
      " 1   normalized-losses  164 non-null    float64\n",
      " 2   wheel-base         205 non-null    float64\n",
      " 3   length             205 non-null    float64\n",
      " 4   width              205 non-null    float64\n",
      " 5   height             205 non-null    float64\n",
      " 6   curb-weight        205 non-null    float64\n",
      " 7   engine-size        205 non-null    float64\n",
      " 8   bore               201 non-null    float64\n",
      " 9   stroke             201 non-null    float64\n",
      " 10  compression-rate   205 non-null    float64\n",
      " 11  horsepower         203 non-null    float64\n",
      " 12  peak-rpm           203 non-null    float64\n",
      " 13  city-mpg           205 non-null    float64\n",
      " 14  highway-mpg        205 non-null    float64\n",
      "dtypes: float64(15)\n",
      "memory usage: 24.1 KB\n"
     ]
    }
   ],
   "source": [
    "cars_numeric.info()"
   ]
  },
  {
   "cell_type": "markdown",
   "metadata": {},
   "source": [
    "# Summary Stats"
   ]
  },
  {
   "cell_type": "code",
   "execution_count": 206,
   "metadata": {},
   "outputs": [
    {
     "data": {
      "text/html": [
       "<div>\n",
       "<style scoped>\n",
       "    .dataframe tbody tr th:only-of-type {\n",
       "        vertical-align: middle;\n",
       "    }\n",
       "\n",
       "    .dataframe tbody tr th {\n",
       "        vertical-align: top;\n",
       "    }\n",
       "\n",
       "    .dataframe thead th {\n",
       "        text-align: right;\n",
       "    }\n",
       "</style>\n",
       "<table border=\"1\" class=\"dataframe\">\n",
       "  <thead>\n",
       "    <tr style=\"text-align: right;\">\n",
       "      <th></th>\n",
       "      <th>symboling</th>\n",
       "      <th>normalized-losses</th>\n",
       "      <th>wheel-base</th>\n",
       "      <th>length</th>\n",
       "      <th>width</th>\n",
       "      <th>height</th>\n",
       "      <th>curb-weight</th>\n",
       "      <th>engine-size</th>\n",
       "      <th>bore</th>\n",
       "      <th>stroke</th>\n",
       "      <th>compression-rate</th>\n",
       "      <th>horsepower</th>\n",
       "      <th>peak-rpm</th>\n",
       "      <th>city-mpg</th>\n",
       "      <th>highway-mpg</th>\n",
       "    </tr>\n",
       "  </thead>\n",
       "  <tbody>\n",
       "    <tr>\n",
       "      <th>count</th>\n",
       "      <td>205.000000</td>\n",
       "      <td>164.000000</td>\n",
       "      <td>205.000000</td>\n",
       "      <td>205.000000</td>\n",
       "      <td>205.000000</td>\n",
       "      <td>205.000000</td>\n",
       "      <td>205.000000</td>\n",
       "      <td>205.000000</td>\n",
       "      <td>201.000000</td>\n",
       "      <td>201.000000</td>\n",
       "      <td>205.000000</td>\n",
       "      <td>203.000000</td>\n",
       "      <td>203.000000</td>\n",
       "      <td>205.000000</td>\n",
       "      <td>205.000000</td>\n",
       "    </tr>\n",
       "    <tr>\n",
       "      <th>mean</th>\n",
       "      <td>0.834146</td>\n",
       "      <td>122.000000</td>\n",
       "      <td>98.756585</td>\n",
       "      <td>174.049268</td>\n",
       "      <td>65.907805</td>\n",
       "      <td>53.724878</td>\n",
       "      <td>2555.565854</td>\n",
       "      <td>126.907317</td>\n",
       "      <td>3.329751</td>\n",
       "      <td>3.255423</td>\n",
       "      <td>10.142537</td>\n",
       "      <td>104.256158</td>\n",
       "      <td>5125.369458</td>\n",
       "      <td>25.219512</td>\n",
       "      <td>30.751220</td>\n",
       "    </tr>\n",
       "    <tr>\n",
       "      <th>std</th>\n",
       "      <td>1.245307</td>\n",
       "      <td>35.442168</td>\n",
       "      <td>6.021776</td>\n",
       "      <td>12.337289</td>\n",
       "      <td>2.145204</td>\n",
       "      <td>2.443522</td>\n",
       "      <td>520.680204</td>\n",
       "      <td>41.642693</td>\n",
       "      <td>0.273539</td>\n",
       "      <td>0.316717</td>\n",
       "      <td>3.972040</td>\n",
       "      <td>39.714369</td>\n",
       "      <td>479.334560</td>\n",
       "      <td>6.542142</td>\n",
       "      <td>6.886443</td>\n",
       "    </tr>\n",
       "    <tr>\n",
       "      <th>min</th>\n",
       "      <td>-2.000000</td>\n",
       "      <td>65.000000</td>\n",
       "      <td>86.600000</td>\n",
       "      <td>141.100000</td>\n",
       "      <td>60.300000</td>\n",
       "      <td>47.800000</td>\n",
       "      <td>1488.000000</td>\n",
       "      <td>61.000000</td>\n",
       "      <td>2.540000</td>\n",
       "      <td>2.070000</td>\n",
       "      <td>7.000000</td>\n",
       "      <td>48.000000</td>\n",
       "      <td>4150.000000</td>\n",
       "      <td>13.000000</td>\n",
       "      <td>16.000000</td>\n",
       "    </tr>\n",
       "    <tr>\n",
       "      <th>25%</th>\n",
       "      <td>0.000000</td>\n",
       "      <td>94.000000</td>\n",
       "      <td>94.500000</td>\n",
       "      <td>166.300000</td>\n",
       "      <td>64.100000</td>\n",
       "      <td>52.000000</td>\n",
       "      <td>2145.000000</td>\n",
       "      <td>97.000000</td>\n",
       "      <td>3.150000</td>\n",
       "      <td>3.110000</td>\n",
       "      <td>8.600000</td>\n",
       "      <td>70.000000</td>\n",
       "      <td>4800.000000</td>\n",
       "      <td>19.000000</td>\n",
       "      <td>25.000000</td>\n",
       "    </tr>\n",
       "    <tr>\n",
       "      <th>50%</th>\n",
       "      <td>1.000000</td>\n",
       "      <td>115.000000</td>\n",
       "      <td>97.000000</td>\n",
       "      <td>173.200000</td>\n",
       "      <td>65.500000</td>\n",
       "      <td>54.100000</td>\n",
       "      <td>2414.000000</td>\n",
       "      <td>120.000000</td>\n",
       "      <td>3.310000</td>\n",
       "      <td>3.290000</td>\n",
       "      <td>9.000000</td>\n",
       "      <td>95.000000</td>\n",
       "      <td>5200.000000</td>\n",
       "      <td>24.000000</td>\n",
       "      <td>30.000000</td>\n",
       "    </tr>\n",
       "    <tr>\n",
       "      <th>75%</th>\n",
       "      <td>2.000000</td>\n",
       "      <td>150.000000</td>\n",
       "      <td>102.400000</td>\n",
       "      <td>183.100000</td>\n",
       "      <td>66.900000</td>\n",
       "      <td>55.500000</td>\n",
       "      <td>2935.000000</td>\n",
       "      <td>141.000000</td>\n",
       "      <td>3.590000</td>\n",
       "      <td>3.410000</td>\n",
       "      <td>9.400000</td>\n",
       "      <td>116.000000</td>\n",
       "      <td>5500.000000</td>\n",
       "      <td>30.000000</td>\n",
       "      <td>34.000000</td>\n",
       "    </tr>\n",
       "    <tr>\n",
       "      <th>max</th>\n",
       "      <td>3.000000</td>\n",
       "      <td>256.000000</td>\n",
       "      <td>120.900000</td>\n",
       "      <td>208.100000</td>\n",
       "      <td>72.300000</td>\n",
       "      <td>59.800000</td>\n",
       "      <td>4066.000000</td>\n",
       "      <td>326.000000</td>\n",
       "      <td>3.940000</td>\n",
       "      <td>4.170000</td>\n",
       "      <td>23.000000</td>\n",
       "      <td>288.000000</td>\n",
       "      <td>6600.000000</td>\n",
       "      <td>49.000000</td>\n",
       "      <td>54.000000</td>\n",
       "    </tr>\n",
       "  </tbody>\n",
       "</table>\n",
       "</div>"
      ],
      "text/plain": [
       "        symboling  normalized-losses  wheel-base      length       width  \\\n",
       "count  205.000000         164.000000  205.000000  205.000000  205.000000   \n",
       "mean     0.834146         122.000000   98.756585  174.049268   65.907805   \n",
       "std      1.245307          35.442168    6.021776   12.337289    2.145204   \n",
       "min     -2.000000          65.000000   86.600000  141.100000   60.300000   \n",
       "25%      0.000000          94.000000   94.500000  166.300000   64.100000   \n",
       "50%      1.000000         115.000000   97.000000  173.200000   65.500000   \n",
       "75%      2.000000         150.000000  102.400000  183.100000   66.900000   \n",
       "max      3.000000         256.000000  120.900000  208.100000   72.300000   \n",
       "\n",
       "           height  curb-weight  engine-size        bore      stroke  \\\n",
       "count  205.000000   205.000000   205.000000  201.000000  201.000000   \n",
       "mean    53.724878  2555.565854   126.907317    3.329751    3.255423   \n",
       "std      2.443522   520.680204    41.642693    0.273539    0.316717   \n",
       "min     47.800000  1488.000000    61.000000    2.540000    2.070000   \n",
       "25%     52.000000  2145.000000    97.000000    3.150000    3.110000   \n",
       "50%     54.100000  2414.000000   120.000000    3.310000    3.290000   \n",
       "75%     55.500000  2935.000000   141.000000    3.590000    3.410000   \n",
       "max     59.800000  4066.000000   326.000000    3.940000    4.170000   \n",
       "\n",
       "       compression-rate  horsepower     peak-rpm    city-mpg  highway-mpg  \n",
       "count        205.000000  203.000000   203.000000  205.000000   205.000000  \n",
       "mean          10.142537  104.256158  5125.369458   25.219512    30.751220  \n",
       "std            3.972040   39.714369   479.334560    6.542142     6.886443  \n",
       "min            7.000000   48.000000  4150.000000   13.000000    16.000000  \n",
       "25%            8.600000   70.000000  4800.000000   19.000000    25.000000  \n",
       "50%            9.000000   95.000000  5200.000000   24.000000    30.000000  \n",
       "75%            9.400000  116.000000  5500.000000   30.000000    34.000000  \n",
       "max           23.000000  288.000000  6600.000000   49.000000    54.000000  "
      ]
     },
     "execution_count": 206,
     "metadata": {},
     "output_type": "execute_result"
    }
   ],
   "source": [
    "cars_numeric.describe()"
   ]
  },
  {
   "cell_type": "markdown",
   "metadata": {},
   "source": [
    "# Distributions"
   ]
  },
  {
   "cell_type": "code",
   "execution_count": 207,
   "metadata": {},
   "outputs": [
    {
     "data": {
      "image/png": "[encoded data removed]",
      "text/plain": [
       "<Figure size 432x288 with 1 Axes>"
      ]
     },
     "metadata": {
      "needs_background": "light"
     },
     "output_type": "display_data"
    },
    {
     "data": {
      "image/png": "[encoded data removed]",
      "text/plain": [
       "<Figure size 432x288 with 1 Axes>"
      ]
     },
     "metadata": {
      "needs_background": "light"
     },
     "output_type": "display_data"
    },
    {
     "data": {
      "image/png": "[encoded data removed]",
      "text/plain": [
       "<Figure size 432x288 with 1 Axes>"
      ]
     },
     "metadata": {
      "needs_background": "light"
     },
     "output_type": "display_data"
    },
    {
     "data": {
      "image/png": "[encoded data removed]",
      "text/plain": [
       "<Figure size 432x288 with 1 Axes>"
      ]
     },
     "metadata": {
      "needs_background": "light"
     },
     "output_type": "display_data"
    },
    {
     "data": {
      "image/png": "[encoded data removed]",
      "text/plain": [
       "<Figure size 432x288 with 1 Axes>"
      ]
     },
     "metadata": {
      "needs_background": "light"
     },
     "output_type": "display_data"
    },
    {
     "data": {
      "image/png": "[encoded data removed]",
      "text/plain": [
       "<Figure size 432x288 with 1 Axes>"
      ]
     },
     "metadata": {
      "needs_background": "light"
     },
     "output_type": "display_data"
    },
    {
     "data": {
      "image/png": "[encoded data removed]",
      "text/plain": [
       "<Figure size 432x288 with 1 Axes>"
      ]
     },
     "metadata": {
      "needs_background": "light"
     },
     "output_type": "display_data"
    },
    {
     "data": {
      "image/png": "[encoded data removed]",
      "text/plain": [
       "<Figure size 432x288 with 1 Axes>"
      ]
     },
     "metadata": {
      "needs_background": "light"
     },
     "output_type": "display_data"
    },
    {
     "data": {
      "image/png": "[encoded data removed]",
      "text/plain": [
       "<Figure size 432x288 with 1 Axes>"
      ]
     },
     "metadata": {
      "needs_background": "light"
     },
     "output_type": "display_data"
    },
    {
     "data": {
      "image/png": "[encoded data removed]",
      "text/plain": [
       "<Figure size 432x288 with 1 Axes>"
      ]
     },
     "metadata": {
      "needs_background": "light"
     },
     "output_type": "display_data"
    },
    {
     "data": {
      "image/png": "[encoded data removed]",
      "text/plain": [
       "<Figure size 432x288 with 1 Axes>"
      ]
     },
     "metadata": {
      "needs_background": "light"
     },
     "output_type": "display_data"
    },
    {
     "data": {
      "image/png": "[encoded data removed]",
      "text/plain": [
       "<Figure size 432x288 with 1 Axes>"
      ]
     },
     "metadata": {
      "needs_background": "light"
     },
     "output_type": "display_data"
    },
    {
     "data": {
      "image/png": "[encoded data removed]",
      "text/plain": [
       "<Figure size 432x288 with 1 Axes>"
      ]
     },
     "metadata": {
      "needs_background": "light"
     },
     "output_type": "display_data"
    },
    {
     "data": {
      "image/png": "[encoded data removed]",
      "text/plain": [
       "<Figure size 432x288 with 1 Axes>"
      ]
     },
     "metadata": {
      "needs_background": "light"
     },
     "output_type": "display_data"
    },
    {
     "data": {
      "image/png": "[encoded data removed]",
      "text/plain": [
       "<Figure size 432x288 with 1 Axes>"
      ]
     },
     "metadata": {
      "needs_background": "light"
     },
     "output_type": "display_data"
    }
   ],
   "source": [
    "for col in cars_numeric.columns:\n",
    "    cars_numeric[col].plot.kde(title = col)\n",
    "    plt.show()"
   ]
  },
  {
   "cell_type": "code",
   "execution_count": 208,
   "metadata": {},
   "outputs": [
    {
     "data": {
      "text/plain": [
       "<matplotlib.axes._subplots.AxesSubplot at 0xdfbd70e648>"
      ]
     },
     "execution_count": 208,
     "metadata": {},
     "output_type": "execute_result"
    },
    {
     "data": {
      "image/png": "[encoded data removed]",
      "text/plain": [
       "<Figure size 432x288 with 1 Axes>"
      ]
     },
     "metadata": {
      "needs_background": "light"
     },
     "output_type": "display_data"
    }
   ],
   "source": [
    "price.plot.kde(title = 'Price')"
   ]
  },
  {
   "cell_type": "markdown",
   "metadata": {},
   "source": [
    "-------------------"
   ]
  },
  {
   "cell_type": "markdown",
   "metadata": {},
   "source": [
    "I'll impute the missing data points with the mean"
   ]
  },
  {
   "cell_type": "code",
   "execution_count": 209,
   "metadata": {},
   "outputs": [
    {
     "data": {
      "text/plain": [
       "False"
      ]
     },
     "execution_count": 209,
     "metadata": {},
     "output_type": "execute_result"
    }
   ],
   "source": [
    "cars_imputed = cars_numeric.fillna(cars_numeric.mean())\n",
    "cars_imputed.isna().any().any()"
   ]
  },
  {
   "cell_type": "markdown",
   "metadata": {},
   "source": [
    "Resecale the data (Normalize it) to be within range [0, 1]"
   ]
  },
  {
   "cell_type": "code",
   "execution_count": 210,
   "metadata": {},
   "outputs": [],
   "source": [
    "car_data_normalized = preprocessing.normalize(cars_imputed)\n",
    "\n",
    "#Normaliing removed cols, put them back and concat price column\n",
    "cars = pd.DataFrame(data = car_data_normalized, columns = cars_imputed.columns)\n",
    "cars['price'] = price"
   ]
  },
  {
   "cell_type": "code",
   "execution_count": 211,
   "metadata": {},
   "outputs": [
    {
     "data": {
      "text/html": [
       "<div>\n",
       "<style scoped>\n",
       "    .dataframe tbody tr th:only-of-type {\n",
       "        vertical-align: middle;\n",
       "    }\n",
       "\n",
       "    .dataframe tbody tr th {\n",
       "        vertical-align: top;\n",
       "    }\n",
       "\n",
       "    .dataframe thead th {\n",
       "        text-align: right;\n",
       "    }\n",
       "</style>\n",
       "<table border=\"1\" class=\"dataframe\">\n",
       "  <thead>\n",
       "    <tr style=\"text-align: right;\">\n",
       "      <th></th>\n",
       "      <th>symboling</th>\n",
       "      <th>normalized-losses</th>\n",
       "      <th>wheel-base</th>\n",
       "      <th>length</th>\n",
       "      <th>width</th>\n",
       "      <th>height</th>\n",
       "      <th>curb-weight</th>\n",
       "      <th>engine-size</th>\n",
       "      <th>bore</th>\n",
       "      <th>stroke</th>\n",
       "      <th>compression-rate</th>\n",
       "      <th>horsepower</th>\n",
       "      <th>peak-rpm</th>\n",
       "      <th>city-mpg</th>\n",
       "      <th>highway-mpg</th>\n",
       "      <th>price</th>\n",
       "    </tr>\n",
       "  </thead>\n",
       "  <tbody>\n",
       "    <tr>\n",
       "      <th>0</th>\n",
       "      <td>0.000534</td>\n",
       "      <td>0.021710</td>\n",
       "      <td>0.015766</td>\n",
       "      <td>0.030037</td>\n",
       "      <td>0.011406</td>\n",
       "      <td>0.008684</td>\n",
       "      <td>0.453409</td>\n",
       "      <td>0.023133</td>\n",
       "      <td>0.000617</td>\n",
       "      <td>0.000477</td>\n",
       "      <td>0.001602</td>\n",
       "      <td>0.019752</td>\n",
       "      <td>0.889734</td>\n",
       "      <td>0.003737</td>\n",
       "      <td>0.004805</td>\n",
       "      <td>13495.0</td>\n",
       "    </tr>\n",
       "    <tr>\n",
       "      <th>1</th>\n",
       "      <td>0.000534</td>\n",
       "      <td>0.021710</td>\n",
       "      <td>0.015766</td>\n",
       "      <td>0.030037</td>\n",
       "      <td>0.011406</td>\n",
       "      <td>0.008684</td>\n",
       "      <td>0.453409</td>\n",
       "      <td>0.023133</td>\n",
       "      <td>0.000617</td>\n",
       "      <td>0.000477</td>\n",
       "      <td>0.001602</td>\n",
       "      <td>0.019752</td>\n",
       "      <td>0.889734</td>\n",
       "      <td>0.003737</td>\n",
       "      <td>0.004805</td>\n",
       "      <td>16500.0</td>\n",
       "    </tr>\n",
       "    <tr>\n",
       "      <th>2</th>\n",
       "      <td>0.000174</td>\n",
       "      <td>0.021213</td>\n",
       "      <td>0.016431</td>\n",
       "      <td>0.029767</td>\n",
       "      <td>0.011389</td>\n",
       "      <td>0.009111</td>\n",
       "      <td>0.490846</td>\n",
       "      <td>0.026429</td>\n",
       "      <td>0.000466</td>\n",
       "      <td>0.000603</td>\n",
       "      <td>0.001565</td>\n",
       "      <td>0.026777</td>\n",
       "      <td>0.869369</td>\n",
       "      <td>0.003304</td>\n",
       "      <td>0.004521</td>\n",
       "      <td>16500.0</td>\n",
       "    </tr>\n",
       "    <tr>\n",
       "      <th>3</th>\n",
       "      <td>0.000334</td>\n",
       "      <td>0.027405</td>\n",
       "      <td>0.016677</td>\n",
       "      <td>0.029511</td>\n",
       "      <td>0.011062</td>\n",
       "      <td>0.009074</td>\n",
       "      <td>0.390527</td>\n",
       "      <td>0.018215</td>\n",
       "      <td>0.000533</td>\n",
       "      <td>0.000568</td>\n",
       "      <td>0.001671</td>\n",
       "      <td>0.017045</td>\n",
       "      <td>0.919085</td>\n",
       "      <td>0.004011</td>\n",
       "      <td>0.005013</td>\n",
       "      <td>13950.0</td>\n",
       "    </tr>\n",
       "    <tr>\n",
       "      <th>4</th>\n",
       "      <td>0.000323</td>\n",
       "      <td>0.026489</td>\n",
       "      <td>0.016055</td>\n",
       "      <td>0.028524</td>\n",
       "      <td>0.010725</td>\n",
       "      <td>0.008770</td>\n",
       "      <td>0.456120</td>\n",
       "      <td>0.021966</td>\n",
       "      <td>0.000515</td>\n",
       "      <td>0.000549</td>\n",
       "      <td>0.001292</td>\n",
       "      <td>0.018574</td>\n",
       "      <td>0.888335</td>\n",
       "      <td>0.002907</td>\n",
       "      <td>0.003553</td>\n",
       "      <td>17450.0</td>\n",
       "    </tr>\n",
       "  </tbody>\n",
       "</table>\n",
       "</div>"
      ],
      "text/plain": [
       "   symboling  normalized-losses  wheel-base    length     width    height  \\\n",
       "0   0.000534           0.021710    0.015766  0.030037  0.011406  0.008684   \n",
       "1   0.000534           0.021710    0.015766  0.030037  0.011406  0.008684   \n",
       "2   0.000174           0.021213    0.016431  0.029767  0.011389  0.009111   \n",
       "3   0.000334           0.027405    0.016677  0.029511  0.011062  0.009074   \n",
       "4   0.000323           0.026489    0.016055  0.028524  0.010725  0.008770   \n",
       "\n",
       "   curb-weight  engine-size      bore    stroke  compression-rate  horsepower  \\\n",
       "0     0.453409     0.023133  0.000617  0.000477          0.001602    0.019752   \n",
       "1     0.453409     0.023133  0.000617  0.000477          0.001602    0.019752   \n",
       "2     0.490846     0.026429  0.000466  0.000603          0.001565    0.026777   \n",
       "3     0.390527     0.018215  0.000533  0.000568          0.001671    0.017045   \n",
       "4     0.456120     0.021966  0.000515  0.000549          0.001292    0.018574   \n",
       "\n",
       "   peak-rpm  city-mpg  highway-mpg    price  \n",
       "0  0.889734  0.003737     0.004805  13495.0  \n",
       "1  0.889734  0.003737     0.004805  16500.0  \n",
       "2  0.869369  0.003304     0.004521  16500.0  \n",
       "3  0.919085  0.004011     0.005013  13950.0  \n",
       "4  0.888335  0.002907     0.003553  17450.0  "
      ]
     },
     "execution_count": 211,
     "metadata": {},
     "output_type": "execute_result"
    }
   ],
   "source": [
    "cars.head()"
   ]
  },
  {
   "cell_type": "code",
   "execution_count": 212,
   "metadata": {},
   "outputs": [],
   "source": [
    "#remove rows with nan price values\n",
    "cars = cars[cars['price'].notna()]"
   ]
  },
  {
   "cell_type": "markdown",
   "metadata": {},
   "source": [
    "----------------"
   ]
  },
  {
   "cell_type": "markdown",
   "metadata": {},
   "source": [
    "# Price Prediction With KNN Regression"
   ]
  },
  {
   "cell_type": "markdown",
   "metadata": {},
   "source": [
    "----------------------"
   ]
  },
  {
   "cell_type": "code",
   "execution_count": 213,
   "metadata": {},
   "outputs": [],
   "source": [
    "def knn_train_test(column_names, target_column_name, dataframe, test_set_size = 0.2, k_neighbors = 5):\n",
    "    \n",
    "    '''\n",
    "    This function \n",
    "    \n",
    "    '''\n",
    "    \n",
    "    #split data into training and test sets\n",
    "    X_train, X_test, y_train, y_test = train_test_split(dataframe[column_names], dataframe[target_column_name], test_size = test_set_size, random_state = 1)\n",
    "\n",
    "    #instantiate KNN regressor\n",
    "    model = KNeighborsRegressor(n_neighbors = k_neighbors)\n",
    "    \n",
    "    #fit model on training data\n",
    "    model.fit(X_train, y_train)\n",
    "    \n",
    "    #use model to predict prices in test set\n",
    "    predictions = model.predict(X_test)\n",
    "    \n",
    "    #calculate RMSE for predictions\n",
    "    rmse = sqrt(mean_squared_error(predictions, y_test))\n",
    "    \n",
    "    return rmse\n",
    "    \n",
    "    "
   ]
  },
  {
   "cell_type": "markdown",
   "metadata": {},
   "source": [
    "#   Univariate Error Analysis"
   ]
  },
  {
   "cell_type": "markdown",
   "metadata": {},
   "source": [
    "A brute force approach to feature selection. I'm essentially running the model on a set of values for k_neighbors in the knn regressor, using a model for each feature. "
   ]
  },
  {
   "cell_type": "code",
   "execution_count": 279,
   "metadata": {},
   "outputs": [],
   "source": [
    "k_values = [2, 5, 10, 15, 20]\n",
    "error_dict = {}\n",
    "\n",
    "features = list(set(cars.columns) - set(['price']))\n",
    "\n",
    "for feature in features:\n",
    "    sub_error_dict = {}\n",
    "    \n",
    "    for k in k_values:\n",
    "        error = knn_train_test([feature], 'price', dataframe = cars, k_neighbors = k)\n",
    "        sub_error_dict[k] = error\n",
    "    \n",
    "    error_dict[feature] = sub_error_dict\n"
   ]
  },
  {
   "cell_type": "code",
   "execution_count": 280,
   "metadata": {},
   "outputs": [
    {
     "name": "stdout",
     "output_type": "stream",
     "text": [
      "curb-weight\n",
      "2  :  5476.312918089074\n",
      "5  :  5066.94060173034\n",
      "10  :  4410.575453522988\n",
      "15  :  4306.556257878959\n",
      "20  :  4485.931435345613\n",
      "wheel-base\n",
      "2  :  8100.962451853574\n",
      "5  :  7613.1477929992125\n",
      "10  :  7604.835171431012\n",
      "15  :  7288.796660733348\n",
      "20  :  7437.954035770301\n",
      "peak-rpm\n",
      "2  :  5370.168648848299\n",
      "5  :  5041.82631322053\n",
      "10  :  4398.193514027012\n",
      "15  :  4299.119155523319\n",
      "20  :  4551.143223109562\n",
      "horsepower\n",
      "2  :  4100.645608747065\n",
      "5  :  3972.521997114802\n",
      "10  :  4889.432257555013\n",
      "15  :  4930.350566195335\n",
      "20  :  5025.115787793522\n",
      "highway-mpg\n",
      "2  :  4201.27856845462\n",
      "5  :  3425.9504734933444\n",
      "10  :  3771.1802439929766\n",
      "15  :  4382.739542494417\n",
      "20  :  4399.711080903703\n",
      "width\n",
      "2  :  8815.85801546171\n",
      "5  :  7630.755096926404\n",
      "10  :  7015.835498512997\n",
      "15  :  7018.263389418499\n",
      "20  :  7407.11017692526\n",
      "length\n",
      "2  :  10175.533797647826\n",
      "5  :  8856.524764841111\n",
      "10  :  7974.263420927443\n",
      "15  :  7499.61188333439\n",
      "20  :  7521.708911329148\n",
      "bore\n",
      "2  :  7349.113849434585\n",
      "5  :  6950.873353303061\n",
      "10  :  6893.2603654654995\n",
      "15  :  7133.668329296781\n",
      "20  :  7387.099896077902\n",
      "compression-rate\n",
      "2  :  8259.54444131447\n",
      "5  :  6252.8401175473655\n",
      "10  :  5858.18637482584\n",
      "15  :  6007.671806799318\n",
      "20  :  5942.116727751106\n",
      "normalized-losses\n",
      "2  :  9727.064194373523\n",
      "5  :  8034.045454919166\n",
      "10  :  7381.525441592547\n",
      "15  :  7346.094844131145\n",
      "20  :  7419.171138571656\n",
      "engine-size\n",
      "2  :  4139.4389141996335\n",
      "5  :  4180.809876030265\n",
      "10  :  4124.409507417765\n",
      "15  :  4119.565016175036\n",
      "20  :  4337.420783777933\n",
      "stroke\n",
      "2  :  8290.468580272638\n",
      "5  :  7988.659000138122\n",
      "10  :  7503.397507080929\n",
      "15  :  7114.490550432626\n",
      "20  :  6841.821658637235\n",
      "height\n",
      "2  :  7583.9810218805205\n",
      "5  :  7073.246733169478\n",
      "10  :  7370.409817824442\n",
      "15  :  7530.9820441760385\n",
      "20  :  7561.345510470972\n",
      "city-mpg\n",
      "2  :  4551.984090321119\n",
      "5  :  4072.53703979323\n",
      "10  :  4255.358397963907\n",
      "15  :  4412.640383862022\n",
      "20  :  4650.02480501514\n",
      "symboling\n",
      "2  :  8261.909982992624\n",
      "5  :  7477.664649653856\n",
      "10  :  6471.935965061278\n",
      "15  :  6455.028208192717\n",
      "20  :  6550.634243054675\n"
     ]
    }
   ],
   "source": [
    "for key,value in error_dict.items():\n",
    "    print(key)\n",
    "    \n",
    "    for key,value in value.items():\n",
    "        print(key, ' : ', value)"
   ]
  },
  {
   "cell_type": "markdown",
   "metadata": {},
   "source": [
    "A k value of 15 tended to perform better than 10. I'll use the information above to construct a list of ordered features, ranked by their error at k = 15."
   ]
  },
  {
   "cell_type": "markdown",
   "metadata": {},
   "source": [
    "# Feature Selection "
   ]
  },
  {
   "cell_type": "code",
   "execution_count": 282,
   "metadata": {},
   "outputs": [
    {
     "name": "stdout",
     "output_type": "stream",
     "text": [
      "3425.9504734933444  :  highway-mpg\n",
      "3972.521997114802  :  horsepower\n",
      "4072.53703979323  :  city-mpg\n",
      "4119.565016175036  :  engine-size\n",
      "4299.119155523319  :  peak-rpm\n",
      "4306.556257878959  :  curb-weight\n",
      "5858.18637482584  :  compression-rate\n",
      "6455.028208192717  :  symboling\n",
      "6841.821658637235  :  stroke\n",
      "6893.2603654654995  :  bore\n",
      "7015.835498512997  :  width\n",
      "7073.246733169478  :  height\n",
      "7288.796660733348  :  wheel-base\n",
      "7346.094844131145  :  normalized-losses\n",
      "7499.61188333439  :  length\n"
     ]
    }
   ],
   "source": [
    "ordered_feat_dict = {}\n",
    "\n",
    "for key,value in error_dict.items():\n",
    "    lowest = min(value.values())\n",
    "    ordered_feat_dict[lowest] = key\n",
    "\n",
    "for i in sorted(ordered_feat_dict.keys()):\n",
    "    print(i, ' : ', ordered_feat_dict[i])"
   ]
  },
  {
   "cell_type": "code",
   "execution_count": 283,
   "metadata": {},
   "outputs": [],
   "source": [
    "ordered_features = ['highway-mpg', 'horsepower', 'city-mpg', 'engine-size', 'peak-rpm', 'curb-weight', 'compression-rate', 'symboling', 'stroke', 'bore', 'width', 'height', 'wheel-base', 'normalized-losses', 'length']"
   ]
  },
  {
   "cell_type": "code",
   "execution_count": 284,
   "metadata": {},
   "outputs": [
    {
     "data": {
      "text/plain": [
       "15"
      ]
     },
     "execution_count": 284,
     "metadata": {},
     "output_type": "execute_result"
    }
   ],
   "source": [
    "len(ordered_features)"
   ]
  },
  {
   "cell_type": "markdown",
   "metadata": {},
   "source": [
    "# Multivariate Error Analysis"
   ]
  },
  {
   "cell_type": "code",
   "execution_count": 285,
   "metadata": {},
   "outputs": [],
   "source": [
    "k_values = [2, 5, 10, 15, 20, 30]\n",
    "multivariate_error_dict = {}\n",
    "\n",
    "best_features = [3, 5, 7, 10, 15]\n",
    "\n",
    "for feature_count in best_features:\n",
    "    sub_error_dict = {}    \n",
    "    \n",
    "    for k in k_values:\n",
    "        error = knn_train_test(ordered_features[0:feature_count], 'price', dataframe = cars, k_neighbors = k)\n",
    "        sub_error_dict[k] = error\n",
    "    \n",
    "    multivariate_error_dict[feature_count] = sub_error_dict"
   ]
  },
  {
   "cell_type": "code",
   "execution_count": 286,
   "metadata": {},
   "outputs": [
    {
     "name": "stdout",
     "output_type": "stream",
     "text": [
      "3  best features\n",
      "2  :  2426.445598793107\n",
      "5  :  3375.6919188118613\n",
      "10  :  4644.771220389234\n",
      "15  :  4601.137858173639\n",
      "20  :  4862.852827709617\n",
      "30  :  5020.66635022934\n",
      "5  best features\n",
      "2  :  4394.00801813272\n",
      "5  :  3757.613223907938\n",
      "10  :  3894.006122547707\n",
      "15  :  4073.8275367305855\n",
      "20  :  4384.638915869923\n",
      "30  :  4609.7730373031545\n",
      "7  best features\n",
      "2  :  3957.2743345055806\n",
      "5  :  3695.737763899408\n",
      "10  :  4145.5773012611535\n",
      "15  :  4158.052114224526\n",
      "20  :  4446.382557182532\n",
      "30  :  4655.934554384914\n",
      "10  best features\n",
      "2  :  3957.2743345055806\n",
      "5  :  3695.737763899408\n",
      "10  :  4145.5773012611535\n",
      "15  :  4158.052114224526\n",
      "20  :  4446.382557182532\n",
      "30  :  4655.934554384914\n",
      "15  best features\n",
      "2  :  3329.06728313048\n",
      "5  :  3865.54506275572\n",
      "10  :  4055.3019698997964\n",
      "15  :  4093.158159131401\n",
      "20  :  4413.691703312574\n",
      "30  :  4636.376225284659\n"
     ]
    }
   ],
   "source": [
    "for key,value in multivariate_error_dict.items():\n",
    "    print(key, ' best features')\n",
    "    \n",
    "    for key,value in value.items():\n",
    "        print(key, ' : ', value)"
   ]
  },
  {
   "cell_type": "markdown",
   "metadata": {},
   "source": [
    "Using a value of k = 2 seems to outperform the other k values. I'll compare the models and the features they use graphically below."
   ]
  },
  {
   "cell_type": "code",
   "execution_count": 287,
   "metadata": {
    "scrolled": true
   },
   "outputs": [
    {
     "data": {
      "text/plain": [
       "<matplotlib.legend.Legend at 0xdfcbf4c248>"
      ]
     },
     "execution_count": 287,
     "metadata": {},
     "output_type": "execute_result"
    },
    {
     "data": {
      "image/png": "[encoded data removed]",
      "text/plain": [
       "<Figure size 432x288 with 1 Axes>"
      ]
     },
     "metadata": {
      "needs_background": "light"
     },
     "output_type": "display_data"
    }
   ],
   "source": [
    "for k, v in multivariate_error_dict.items():\n",
    "    x = list(v.keys())\n",
    "    y = list(v.values())\n",
    "    plt.plot(x,y, label = str(k) + ' features')\n",
    "\n",
    "plt.xlabel('k value')\n",
    "plt.ylabel('RMSE')\n",
    "plt.legend()"
   ]
  },
  {
   "cell_type": "markdown",
   "metadata": {},
   "source": [
    "# Conclusion\n",
    "\n",
    "From this chart, the best model for this prediction task uses the 3 best features, and a k_value of 2, to predict the price of a car. This is very good for model explainability because we can boil the price down to a small set of features rather than having to use all of them. "
   ]
  },
  {
   "cell_type": "code",
   "execution_count": null,
   "metadata": {},
   "outputs": [],
   "source": []
  }
 ],
 "metadata": {
  "kernelspec": {
   "display_name": "Python 3",
   "language": "python",
   "name": "python3"
  },
  "language_info": {
   "codemirror_mode": {
    "name": "ipython",
    "version": 3
   },
   "file_extension": ".py",
   "mimetype": "text/x-python",
   "name": "python",
   "nbconvert_exporter": "python",
   "pygments_lexer": "ipython3",
   "version": "3.7.7"
  }
 },
 "nbformat": 4,
 "nbformat_minor": 4
}
