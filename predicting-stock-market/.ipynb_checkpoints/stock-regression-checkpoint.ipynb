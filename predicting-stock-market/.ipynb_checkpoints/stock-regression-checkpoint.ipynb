{
 "cells": [
  {
   "cell_type": "markdown",
   "metadata": {},
   "source": [
    "<br>\n",
    "\n",
    "# Predicting Stock Market \n",
    "\n",
    "<br>\n",
    "\n",
    "---------\n",
    "\n",
    "    In this project, I work with the S&P500 stock market index from 1950 to 2015. This index aggregates the stock prices of 500 large companies to give information about the stock market in general. \n",
    "\n",
    "    I will be building a linear regression model that will use historical data (1950 to 2012) to make predictions about stock prices from 2013 to 2015. \n",
    "\n",
    "----------"
   ]
  },
  {
   "cell_type": "markdown",
   "metadata": {},
   "source": [
    "### Imports"
   ]
  },
  {
   "cell_type": "code",
   "execution_count": 1,
   "metadata": {},
   "outputs": [],
   "source": [
    "import numpy as np\n",
    "import pandas as pd\n",
    "\n",
    "from datetime import datetime\n",
    "\n",
    "from sklearn.linear_model import LinearRegression\n",
    "import matplotlib.pyplot as plt\n",
    "\n",
    "from sklearn.metrics import mean_squared_error\n",
    "from math import sqrt"
   ]
  },
  {
   "cell_type": "markdown",
   "metadata": {},
   "source": [
    "### Data Exploration"
   ]
  },
  {
   "cell_type": "code",
   "execution_count": 2,
   "metadata": {},
   "outputs": [],
   "source": [
    "stocks = pd.read_csv('./sphist.csv', index_col = 'Date')"
   ]
  },
  {
   "cell_type": "code",
   "execution_count": 3,
   "metadata": {},
   "outputs": [
    {
     "data": {
      "text/html": [
       "<div>\n",
       "<style scoped>\n",
       "    .dataframe tbody tr th:only-of-type {\n",
       "        vertical-align: middle;\n",
       "    }\n",
       "\n",
       "    .dataframe tbody tr th {\n",
       "        vertical-align: top;\n",
       "    }\n",
       "\n",
       "    .dataframe thead th {\n",
       "        text-align: right;\n",
       "    }\n",
       "</style>\n",
       "<table border=\"1\" class=\"dataframe\">\n",
       "  <thead>\n",
       "    <tr style=\"text-align: right;\">\n",
       "      <th></th>\n",
       "      <th>Open</th>\n",
       "      <th>High</th>\n",
       "      <th>Low</th>\n",
       "      <th>Close</th>\n",
       "      <th>Volume</th>\n",
       "      <th>Adj Close</th>\n",
       "    </tr>\n",
       "    <tr>\n",
       "      <th>Date</th>\n",
       "      <th></th>\n",
       "      <th></th>\n",
       "      <th></th>\n",
       "      <th></th>\n",
       "      <th></th>\n",
       "      <th></th>\n",
       "    </tr>\n",
       "  </thead>\n",
       "  <tbody>\n",
       "    <tr>\n",
       "      <th>2015-12-07</th>\n",
       "      <td>2090.419922</td>\n",
       "      <td>2090.419922</td>\n",
       "      <td>2066.780029</td>\n",
       "      <td>2077.070068</td>\n",
       "      <td>4.043820e+09</td>\n",
       "      <td>2077.070068</td>\n",
       "    </tr>\n",
       "    <tr>\n",
       "      <th>2015-12-04</th>\n",
       "      <td>2051.239990</td>\n",
       "      <td>2093.840088</td>\n",
       "      <td>2051.239990</td>\n",
       "      <td>2091.689941</td>\n",
       "      <td>4.214910e+09</td>\n",
       "      <td>2091.689941</td>\n",
       "    </tr>\n",
       "    <tr>\n",
       "      <th>2015-12-03</th>\n",
       "      <td>2080.709961</td>\n",
       "      <td>2085.000000</td>\n",
       "      <td>2042.349976</td>\n",
       "      <td>2049.620117</td>\n",
       "      <td>4.306490e+09</td>\n",
       "      <td>2049.620117</td>\n",
       "    </tr>\n",
       "    <tr>\n",
       "      <th>2015-12-02</th>\n",
       "      <td>2101.709961</td>\n",
       "      <td>2104.270020</td>\n",
       "      <td>2077.110107</td>\n",
       "      <td>2079.510010</td>\n",
       "      <td>3.950640e+09</td>\n",
       "      <td>2079.510010</td>\n",
       "    </tr>\n",
       "    <tr>\n",
       "      <th>2015-12-01</th>\n",
       "      <td>2082.929932</td>\n",
       "      <td>2103.370117</td>\n",
       "      <td>2082.929932</td>\n",
       "      <td>2102.629883</td>\n",
       "      <td>3.712120e+09</td>\n",
       "      <td>2102.629883</td>\n",
       "    </tr>\n",
       "  </tbody>\n",
       "</table>\n",
       "</div>"
      ],
      "text/plain": [
       "                   Open         High          Low        Close        Volume  \\\n",
       "Date                                                                           \n",
       "2015-12-07  2090.419922  2090.419922  2066.780029  2077.070068  4.043820e+09   \n",
       "2015-12-04  2051.239990  2093.840088  2051.239990  2091.689941  4.214910e+09   \n",
       "2015-12-03  2080.709961  2085.000000  2042.349976  2049.620117  4.306490e+09   \n",
       "2015-12-02  2101.709961  2104.270020  2077.110107  2079.510010  3.950640e+09   \n",
       "2015-12-01  2082.929932  2103.370117  2082.929932  2102.629883  3.712120e+09   \n",
       "\n",
       "              Adj Close  \n",
       "Date                     \n",
       "2015-12-07  2077.070068  \n",
       "2015-12-04  2091.689941  \n",
       "2015-12-03  2049.620117  \n",
       "2015-12-02  2079.510010  \n",
       "2015-12-01  2102.629883  "
      ]
     },
     "execution_count": 3,
     "metadata": {},
     "output_type": "execute_result"
    }
   ],
   "source": [
    "stocks.head()"
   ]
  },
  {
   "cell_type": "markdown",
   "metadata": {},
   "source": [
    "**Convert the date column to Pandas date data type**"
   ]
  },
  {
   "cell_type": "code",
   "execution_count": 4,
   "metadata": {},
   "outputs": [],
   "source": [
    "stocks.index = pd.to_datetime(stocks.index)"
   ]
  },
  {
   "cell_type": "code",
   "execution_count": 5,
   "metadata": {},
   "outputs": [
    {
     "data": {
      "text/plain": [
       "Open         float64\n",
       "High         float64\n",
       "Low          float64\n",
       "Close        float64\n",
       "Volume       float64\n",
       "Adj Close    float64\n",
       "dtype: object"
      ]
     },
     "execution_count": 5,
     "metadata": {},
     "output_type": "execute_result"
    }
   ],
   "source": [
    "stocks.dtypes"
   ]
  },
  {
   "cell_type": "code",
   "execution_count": 6,
   "metadata": {},
   "outputs": [
    {
     "name": "stdout",
     "output_type": "stream",
     "text": [
      "<class 'pandas.core.frame.DataFrame'>\n",
      "DatetimeIndex: 16590 entries, 2015-12-07 to 1950-01-03\n",
      "Data columns (total 6 columns):\n",
      " #   Column     Non-Null Count  Dtype  \n",
      "---  ------     --------------  -----  \n",
      " 0   Open       16590 non-null  float64\n",
      " 1   High       16590 non-null  float64\n",
      " 2   Low        16590 non-null  float64\n",
      " 3   Close      16590 non-null  float64\n",
      " 4   Volume     16590 non-null  float64\n",
      " 5   Adj Close  16590 non-null  float64\n",
      "dtypes: float64(6)\n",
      "memory usage: 907.3 KB\n"
     ]
    }
   ],
   "source": [
    "stocks.info()"
   ]
  },
  {
   "cell_type": "code",
   "execution_count": 7,
   "metadata": {},
   "outputs": [
    {
     "data": {
      "text/html": [
       "<div>\n",
       "<style scoped>\n",
       "    .dataframe tbody tr th:only-of-type {\n",
       "        vertical-align: middle;\n",
       "    }\n",
       "\n",
       "    .dataframe tbody tr th {\n",
       "        vertical-align: top;\n",
       "    }\n",
       "\n",
       "    .dataframe thead th {\n",
       "        text-align: right;\n",
       "    }\n",
       "</style>\n",
       "<table border=\"1\" class=\"dataframe\">\n",
       "  <thead>\n",
       "    <tr style=\"text-align: right;\">\n",
       "      <th></th>\n",
       "      <th>Open</th>\n",
       "      <th>High</th>\n",
       "      <th>Low</th>\n",
       "      <th>Close</th>\n",
       "      <th>Volume</th>\n",
       "      <th>Adj Close</th>\n",
       "    </tr>\n",
       "  </thead>\n",
       "  <tbody>\n",
       "    <tr>\n",
       "      <th>count</th>\n",
       "      <td>16590.000000</td>\n",
       "      <td>16590.000000</td>\n",
       "      <td>16590.000000</td>\n",
       "      <td>16590.000000</td>\n",
       "      <td>1.659000e+04</td>\n",
       "      <td>16590.000000</td>\n",
       "    </tr>\n",
       "    <tr>\n",
       "      <th>mean</th>\n",
       "      <td>482.570941</td>\n",
       "      <td>485.624237</td>\n",
       "      <td>479.367501</td>\n",
       "      <td>482.692491</td>\n",
       "      <td>7.940099e+08</td>\n",
       "      <td>482.692491</td>\n",
       "    </tr>\n",
       "    <tr>\n",
       "      <th>std</th>\n",
       "      <td>554.889186</td>\n",
       "      <td>558.186049</td>\n",
       "      <td>551.367625</td>\n",
       "      <td>555.007904</td>\n",
       "      <td>1.456582e+09</td>\n",
       "      <td>555.007904</td>\n",
       "    </tr>\n",
       "    <tr>\n",
       "      <th>min</th>\n",
       "      <td>16.660000</td>\n",
       "      <td>16.660000</td>\n",
       "      <td>16.660000</td>\n",
       "      <td>16.660000</td>\n",
       "      <td>6.800000e+05</td>\n",
       "      <td>16.660000</td>\n",
       "    </tr>\n",
       "    <tr>\n",
       "      <th>25%</th>\n",
       "      <td>83.860001</td>\n",
       "      <td>84.594997</td>\n",
       "      <td>83.139997</td>\n",
       "      <td>83.860001</td>\n",
       "      <td>7.610000e+06</td>\n",
       "      <td>83.860001</td>\n",
       "    </tr>\n",
       "    <tr>\n",
       "      <th>50%</th>\n",
       "      <td>144.049995</td>\n",
       "      <td>145.294998</td>\n",
       "      <td>143.105004</td>\n",
       "      <td>144.264999</td>\n",
       "      <td>7.170500e+07</td>\n",
       "      <td>144.264999</td>\n",
       "    </tr>\n",
       "    <tr>\n",
       "      <th>75%</th>\n",
       "      <td>950.722488</td>\n",
       "      <td>956.665024</td>\n",
       "      <td>941.969986</td>\n",
       "      <td>950.797500</td>\n",
       "      <td>7.866750e+08</td>\n",
       "      <td>950.797500</td>\n",
       "    </tr>\n",
       "    <tr>\n",
       "      <th>max</th>\n",
       "      <td>2130.360107</td>\n",
       "      <td>2134.719971</td>\n",
       "      <td>2126.060059</td>\n",
       "      <td>2130.820068</td>\n",
       "      <td>1.145623e+10</td>\n",
       "      <td>2130.820068</td>\n",
       "    </tr>\n",
       "  </tbody>\n",
       "</table>\n",
       "</div>"
      ],
      "text/plain": [
       "               Open          High           Low         Close        Volume  \\\n",
       "count  16590.000000  16590.000000  16590.000000  16590.000000  1.659000e+04   \n",
       "mean     482.570941    485.624237    479.367501    482.692491  7.940099e+08   \n",
       "std      554.889186    558.186049    551.367625    555.007904  1.456582e+09   \n",
       "min       16.660000     16.660000     16.660000     16.660000  6.800000e+05   \n",
       "25%       83.860001     84.594997     83.139997     83.860001  7.610000e+06   \n",
       "50%      144.049995    145.294998    143.105004    144.264999  7.170500e+07   \n",
       "75%      950.722488    956.665024    941.969986    950.797500  7.866750e+08   \n",
       "max     2130.360107   2134.719971   2126.060059   2130.820068  1.145623e+10   \n",
       "\n",
       "          Adj Close  \n",
       "count  16590.000000  \n",
       "mean     482.692491  \n",
       "std      555.007904  \n",
       "min       16.660000  \n",
       "25%       83.860001  \n",
       "50%      144.264999  \n",
       "75%      950.797500  \n",
       "max     2130.820068  "
      ]
     },
     "execution_count": 7,
     "metadata": {},
     "output_type": "execute_result"
    }
   ],
   "source": [
    "stocks.describe()"
   ]
  },
  {
   "cell_type": "markdown",
   "metadata": {},
   "source": [
    "**Sort the stocks DataFrame by the date column asc**"
   ]
  },
  {
   "cell_type": "code",
   "execution_count": 8,
   "metadata": {
    "scrolled": true
   },
   "outputs": [
    {
     "data": {
      "text/html": [
       "<div>\n",
       "<style scoped>\n",
       "    .dataframe tbody tr th:only-of-type {\n",
       "        vertical-align: middle;\n",
       "    }\n",
       "\n",
       "    .dataframe tbody tr th {\n",
       "        vertical-align: top;\n",
       "    }\n",
       "\n",
       "    .dataframe thead th {\n",
       "        text-align: right;\n",
       "    }\n",
       "</style>\n",
       "<table border=\"1\" class=\"dataframe\">\n",
       "  <thead>\n",
       "    <tr style=\"text-align: right;\">\n",
       "      <th></th>\n",
       "      <th>Open</th>\n",
       "      <th>High</th>\n",
       "      <th>Low</th>\n",
       "      <th>Close</th>\n",
       "      <th>Volume</th>\n",
       "      <th>Adj Close</th>\n",
       "    </tr>\n",
       "    <tr>\n",
       "      <th>Date</th>\n",
       "      <th></th>\n",
       "      <th></th>\n",
       "      <th></th>\n",
       "      <th></th>\n",
       "      <th></th>\n",
       "      <th></th>\n",
       "    </tr>\n",
       "  </thead>\n",
       "  <tbody>\n",
       "    <tr>\n",
       "      <th>1950-01-03</th>\n",
       "      <td>16.66</td>\n",
       "      <td>16.66</td>\n",
       "      <td>16.66</td>\n",
       "      <td>16.66</td>\n",
       "      <td>1260000.0</td>\n",
       "      <td>16.66</td>\n",
       "    </tr>\n",
       "    <tr>\n",
       "      <th>1950-01-04</th>\n",
       "      <td>16.85</td>\n",
       "      <td>16.85</td>\n",
       "      <td>16.85</td>\n",
       "      <td>16.85</td>\n",
       "      <td>1890000.0</td>\n",
       "      <td>16.85</td>\n",
       "    </tr>\n",
       "    <tr>\n",
       "      <th>1950-01-05</th>\n",
       "      <td>16.93</td>\n",
       "      <td>16.93</td>\n",
       "      <td>16.93</td>\n",
       "      <td>16.93</td>\n",
       "      <td>2550000.0</td>\n",
       "      <td>16.93</td>\n",
       "    </tr>\n",
       "    <tr>\n",
       "      <th>1950-01-06</th>\n",
       "      <td>16.98</td>\n",
       "      <td>16.98</td>\n",
       "      <td>16.98</td>\n",
       "      <td>16.98</td>\n",
       "      <td>2010000.0</td>\n",
       "      <td>16.98</td>\n",
       "    </tr>\n",
       "    <tr>\n",
       "      <th>1950-01-09</th>\n",
       "      <td>17.08</td>\n",
       "      <td>17.08</td>\n",
       "      <td>17.08</td>\n",
       "      <td>17.08</td>\n",
       "      <td>2520000.0</td>\n",
       "      <td>17.08</td>\n",
       "    </tr>\n",
       "  </tbody>\n",
       "</table>\n",
       "</div>"
      ],
      "text/plain": [
       "             Open   High    Low  Close     Volume  Adj Close\n",
       "Date                                                        \n",
       "1950-01-03  16.66  16.66  16.66  16.66  1260000.0      16.66\n",
       "1950-01-04  16.85  16.85  16.85  16.85  1890000.0      16.85\n",
       "1950-01-05  16.93  16.93  16.93  16.93  2550000.0      16.93\n",
       "1950-01-06  16.98  16.98  16.98  16.98  2010000.0      16.98\n",
       "1950-01-09  17.08  17.08  17.08  17.08  2520000.0      17.08"
      ]
     },
     "execution_count": 8,
     "metadata": {},
     "output_type": "execute_result"
    }
   ],
   "source": [
    "stocks = stocks.sort_index()\n",
    "stocks.head()"
   ]
  },
  {
   "cell_type": "code",
   "execution_count": 9,
   "metadata": {},
   "outputs": [
    {
     "data": {
      "image/png": "[encoded data removed]",
      "text/plain": [
       "<Figure size 432x288 with 1 Axes>"
      ]
     },
     "metadata": {
      "needs_background": "light"
     },
     "output_type": "display_data"
    },
    {
     "data": {
      "text/plain": [
       "<Figure size 1080x1080 with 0 Axes>"
      ]
     },
     "metadata": {},
     "output_type": "display_data"
    }
   ],
   "source": [
    "plt.plot(stocks.index, stocks['Close'])\n",
    "plt.title('Stock Price')\n",
    "plt.figure(figsize=(15, 15))\n",
    "plt.show()"
   ]
  },
  {
   "cell_type": "markdown",
   "metadata": {},
   "source": [
    "**Keep a copy of this stocks dataframe in case its needed**"
   ]
  },
  {
   "cell_type": "code",
   "execution_count": 10,
   "metadata": {},
   "outputs": [],
   "source": [
    "stocks_original = stocks"
   ]
  },
  {
   "cell_type": "markdown",
   "metadata": {},
   "source": [
    "### Feature Engineering\n",
    "\n",
    "I'll create 4 new columns that should offer very useful information to the linear regression model when predicting prices for stocks\n",
    "\n",
    "-----"
   ]
  },
  {
   "cell_type": "markdown",
   "metadata": {},
   "source": [
    "**1. Average price of stocks from 5 previous days**"
   ]
  },
  {
   "cell_type": "code",
   "execution_count": 11,
   "metadata": {},
   "outputs": [],
   "source": [
    "stocks['5 Day Avg'] = stocks['Close'].rolling(5).mean()"
   ]
  },
  {
   "cell_type": "markdown",
   "metadata": {},
   "source": [
    "**2. Average price of stocks from previous 30 days**"
   ]
  },
  {
   "cell_type": "code",
   "execution_count": 12,
   "metadata": {},
   "outputs": [],
   "source": [
    "stocks['30 Day Avg'] = stocks['Close'].rolling(30).mean()"
   ]
  },
  {
   "cell_type": "markdown",
   "metadata": {},
   "source": [
    "**3. Standard Deviation of stocks from previous 5 days**"
   ]
  },
  {
   "cell_type": "code",
   "execution_count": 13,
   "metadata": {},
   "outputs": [],
   "source": [
    "stocks['5 Day StdDev'] = stocks['Close'].rolling(5).std()"
   ]
  },
  {
   "cell_type": "markdown",
   "metadata": {},
   "source": [
    "**4. Standard Deviation of stocks from previous 30 days**"
   ]
  },
  {
   "cell_type": "code",
   "execution_count": 14,
   "metadata": {},
   "outputs": [],
   "source": [
    "stocks['30 Day StdDev'] = stocks['Close'].rolling(30).std()"
   ]
  },
  {
   "cell_type": "markdown",
   "metadata": {},
   "source": [
    "Shift this newly created column by 1 to avoid leaking information from features to targets (future leakage in this case)"
   ]
  },
  {
   "cell_type": "code",
   "execution_count": 15,
   "metadata": {},
   "outputs": [],
   "source": [
    "new_cols = ['5 Day Avg', '30 Day Avg', '5 Day StdDev', '30 Day StdDev']"
   ]
  },
  {
   "cell_type": "code",
   "execution_count": 16,
   "metadata": {},
   "outputs": [],
   "source": [
    "stocks[new_cols] = stocks[new_cols].shift(1)"
   ]
  },
  {
   "cell_type": "markdown",
   "metadata": {},
   "source": [
    "Now drop first 30 rows of data since they will have NaN values for the new columns"
   ]
  },
  {
   "cell_type": "code",
   "execution_count": 17,
   "metadata": {},
   "outputs": [],
   "source": [
    "stocks = stocks.dropna()"
   ]
  },
  {
   "cell_type": "code",
   "execution_count": 18,
   "metadata": {},
   "outputs": [
    {
     "data": {
      "text/html": [
       "<div>\n",
       "<style scoped>\n",
       "    .dataframe tbody tr th:only-of-type {\n",
       "        vertical-align: middle;\n",
       "    }\n",
       "\n",
       "    .dataframe tbody tr th {\n",
       "        vertical-align: top;\n",
       "    }\n",
       "\n",
       "    .dataframe thead th {\n",
       "        text-align: right;\n",
       "    }\n",
       "</style>\n",
       "<table border=\"1\" class=\"dataframe\">\n",
       "  <thead>\n",
       "    <tr style=\"text-align: right;\">\n",
       "      <th></th>\n",
       "      <th>Open</th>\n",
       "      <th>High</th>\n",
       "      <th>Low</th>\n",
       "      <th>Close</th>\n",
       "      <th>Volume</th>\n",
       "      <th>Adj Close</th>\n",
       "      <th>5 Day Avg</th>\n",
       "      <th>30 Day Avg</th>\n",
       "      <th>5 Day StdDev</th>\n",
       "      <th>30 Day StdDev</th>\n",
       "    </tr>\n",
       "    <tr>\n",
       "      <th>Date</th>\n",
       "      <th></th>\n",
       "      <th></th>\n",
       "      <th></th>\n",
       "      <th></th>\n",
       "      <th></th>\n",
       "      <th></th>\n",
       "      <th></th>\n",
       "      <th></th>\n",
       "      <th></th>\n",
       "      <th></th>\n",
       "    </tr>\n",
       "  </thead>\n",
       "  <tbody>\n",
       "    <tr>\n",
       "      <th>1950-02-15</th>\n",
       "      <td>17.059999</td>\n",
       "      <td>17.059999</td>\n",
       "      <td>17.059999</td>\n",
       "      <td>17.059999</td>\n",
       "      <td>1730000.0</td>\n",
       "      <td>17.059999</td>\n",
       "      <td>17.204</td>\n",
       "      <td>16.976667</td>\n",
       "      <td>0.084440</td>\n",
       "      <td>0.197978</td>\n",
       "    </tr>\n",
       "    <tr>\n",
       "      <th>1950-02-16</th>\n",
       "      <td>16.990000</td>\n",
       "      <td>16.990000</td>\n",
       "      <td>16.990000</td>\n",
       "      <td>16.990000</td>\n",
       "      <td>1920000.0</td>\n",
       "      <td>16.990000</td>\n",
       "      <td>17.170</td>\n",
       "      <td>16.990000</td>\n",
       "      <td>0.103442</td>\n",
       "      <td>0.189191</td>\n",
       "    </tr>\n",
       "    <tr>\n",
       "      <th>1950-02-17</th>\n",
       "      <td>17.150000</td>\n",
       "      <td>17.150000</td>\n",
       "      <td>17.150000</td>\n",
       "      <td>17.150000</td>\n",
       "      <td>1940000.0</td>\n",
       "      <td>17.150000</td>\n",
       "      <td>17.126</td>\n",
       "      <td>16.994667</td>\n",
       "      <td>0.126413</td>\n",
       "      <td>0.187336</td>\n",
       "    </tr>\n",
       "    <tr>\n",
       "      <th>1950-02-20</th>\n",
       "      <td>17.200001</td>\n",
       "      <td>17.200001</td>\n",
       "      <td>17.200001</td>\n",
       "      <td>17.200001</td>\n",
       "      <td>1420000.0</td>\n",
       "      <td>17.200001</td>\n",
       "      <td>17.100</td>\n",
       "      <td>17.002000</td>\n",
       "      <td>0.096696</td>\n",
       "      <td>0.189016</td>\n",
       "    </tr>\n",
       "    <tr>\n",
       "      <th>1950-02-21</th>\n",
       "      <td>17.170000</td>\n",
       "      <td>17.170000</td>\n",
       "      <td>17.170000</td>\n",
       "      <td>17.170000</td>\n",
       "      <td>1260000.0</td>\n",
       "      <td>17.170000</td>\n",
       "      <td>17.092</td>\n",
       "      <td>17.009333</td>\n",
       "      <td>0.082886</td>\n",
       "      <td>0.192371</td>\n",
       "    </tr>\n",
       "  </tbody>\n",
       "</table>\n",
       "</div>"
      ],
      "text/plain": [
       "                 Open       High        Low      Close     Volume  Adj Close  \\\n",
       "Date                                                                           \n",
       "1950-02-15  17.059999  17.059999  17.059999  17.059999  1730000.0  17.059999   \n",
       "1950-02-16  16.990000  16.990000  16.990000  16.990000  1920000.0  16.990000   \n",
       "1950-02-17  17.150000  17.150000  17.150000  17.150000  1940000.0  17.150000   \n",
       "1950-02-20  17.200001  17.200001  17.200001  17.200001  1420000.0  17.200001   \n",
       "1950-02-21  17.170000  17.170000  17.170000  17.170000  1260000.0  17.170000   \n",
       "\n",
       "            5 Day Avg  30 Day Avg  5 Day StdDev  30 Day StdDev  \n",
       "Date                                                            \n",
       "1950-02-15     17.204   16.976667      0.084440       0.197978  \n",
       "1950-02-16     17.170   16.990000      0.103442       0.189191  \n",
       "1950-02-17     17.126   16.994667      0.126413       0.187336  \n",
       "1950-02-20     17.100   17.002000      0.096696       0.189016  \n",
       "1950-02-21     17.092   17.009333      0.082886       0.192371  "
      ]
     },
     "execution_count": 18,
     "metadata": {},
     "output_type": "execute_result"
    }
   ],
   "source": [
    "stocks.head()"
   ]
  },
  {
   "cell_type": "markdown",
   "metadata": {},
   "source": [
    "----------\n",
    "## Stock Price Prediction: Linear Regression\n",
    "----------"
   ]
  },
  {
   "cell_type": "code",
   "execution_count": 19,
   "metadata": {},
   "outputs": [],
   "source": [
    "def train_regressor(features, train_X, train_y, test_X, test_y):\n",
    "    \n",
    "    train_X_subset = train_X[features]\n",
    "    test_X_subset = test_X[features]\n",
    "    \n",
    "    model = LinearRegression()\n",
    "    model.fit(train_X_subset, train_y)\n",
    "    \n",
    "    predictions = model.predict(test_X_subset)\n",
    "    predictions_pd = pd.Series(predictions, index = test_y.index)\n",
    "    rmse = sqrt(mean_squared_error(predictions, test_y))\n",
    "\n",
    "    return rmse, predictions_pd"
   ]
  },
  {
   "cell_type": "markdown",
   "metadata": {},
   "source": [
    "**Split train and test data**\n",
    "  <br>\n",
    "  <br>  **train**: 1950 to 2012\n",
    "  <br>  **test**:  2013 to 2015"
   ]
  },
  {
   "cell_type": "code",
   "execution_count": 20,
   "metadata": {},
   "outputs": [],
   "source": [
    "train_X = stocks.loc['1950':'2012']\n",
    "test_X = stocks.loc['2013':'2015']"
   ]
  },
  {
   "cell_type": "markdown",
   "metadata": {},
   "source": [
    "**Seperate Target Column, Remove columns with information about price**"
   ]
  },
  {
   "cell_type": "code",
   "execution_count": 21,
   "metadata": {},
   "outputs": [],
   "source": [
    "train_y = train_X['Close']\n",
    "test_y = test_X['Close']\n",
    "\n",
    "train_X = train_X[new_cols]\n",
    "test_X = test_X[new_cols]"
   ]
  },
  {
   "cell_type": "markdown",
   "metadata": {},
   "source": [
    "### Error analysis"
   ]
  },
  {
   "cell_type": "markdown",
   "metadata": {},
   "source": [
    "For error comparison, I'll create three different DataFrames to fit the model to. \n",
    "One containing only the 5 day avg and stdev. One containing only the 30 day avg and stddev. And one with all 4 columns (which is just the original train_X dataframe)."
   ]
  },
  {
   "cell_type": "code",
   "execution_count": 22,
   "metadata": {},
   "outputs": [],
   "source": [
    "rmse_5, _ = train_regressor(['5 Day Avg', '5 Day StdDev'], train_X, train_y, test_X, test_y)\n",
    "rmse_30, _ = train_regressor(['30 Day Avg', '30 Day StdDev'], train_X, train_y, test_X, test_y)\n",
    "rmse_both, predictions_pd = train_regressor(new_cols, train_X, train_y, test_X, test_y)"
   ]
  },
  {
   "cell_type": "code",
   "execution_count": 23,
   "metadata": {},
   "outputs": [
    {
     "data": {
      "text/plain": [
       "22.118550113003344"
      ]
     },
     "execution_count": 23,
     "metadata": {},
     "output_type": "execute_result"
    }
   ],
   "source": [
    "rmse_5"
   ]
  },
  {
   "cell_type": "code",
   "execution_count": 24,
   "metadata": {},
   "outputs": [
    {
     "data": {
      "text/plain": [
       "41.08866231900498"
      ]
     },
     "execution_count": 24,
     "metadata": {},
     "output_type": "execute_result"
    }
   ],
   "source": [
    "rmse_30"
   ]
  },
  {
   "cell_type": "code",
   "execution_count": 25,
   "metadata": {},
   "outputs": [
    {
     "data": {
      "text/plain": [
       "22.21109303853851"
      ]
     },
     "execution_count": 25,
     "metadata": {},
     "output_type": "execute_result"
    }
   ],
   "source": [
    "rmse_both"
   ]
  },
  {
   "cell_type": "markdown",
   "metadata": {},
   "source": [
    "**Results**\n",
    "<br><br>\n",
    "From the error reports above, it would appear that using the 5 day avg and 5 day std dev as features produces the best predictions, followed closely by using both 5 and 30 day calculations. Using only the 30 day calculations provided the worst performance."
   ]
  },
  {
   "cell_type": "markdown",
   "metadata": {},
   "source": [
    "**A visual representation of predictions compared to actual stock prices**"
   ]
  },
  {
   "cell_type": "code",
   "execution_count": 44,
   "metadata": {},
   "outputs": [
    {
     "data": {
      "image/png": "[encoded data removed]",
      "text/plain": [
       "<Figure size 432x288 with 1 Axes>"
      ]
     },
     "metadata": {
      "needs_background": "light"
     },
     "output_type": "display_data"
    }
   ],
   "source": [
    "plt.plot(test_y, label = 'Actual')\n",
    "plt.plot(predictions_pd, label = 'Predictions')\n",
    "plt.title('Predictions vs Actual, Overall')\n",
    "plt.legend()\n",
    "plt.show()"
   ]
  },
  {
   "cell_type": "code",
   "execution_count": 45,
   "metadata": {},
   "outputs": [
    {
     "data": {
      "image/png": "[encoded data removed]",
      "text/plain": [
       "<Figure size 432x288 with 1 Axes>"
      ]
     },
     "metadata": {
      "needs_background": "light"
     },
     "output_type": "display_data"
    }
   ],
   "source": [
    "plt.plot(test_y.loc['2013'], label = 'Actual')\n",
    "plt.plot(predictions_pd.loc['2013'], label = 'Predictions')\n",
    "plt.title('Predictions vs Actual, 2013')\n",
    "plt.legend()\n",
    "plt.show()"
   ]
  },
  {
   "cell_type": "code",
   "execution_count": null,
   "metadata": {},
   "outputs": [],
   "source": []
  }
 ],
 "metadata": {
  "kernelspec": {
   "display_name": "Python 3",
   "language": "python",
   "name": "python3"
  },
  "language_info": {
   "codemirror_mode": {
    "name": "ipython",
    "version": 3
   },
   "file_extension": ".py",
   "mimetype": "text/x-python",
   "name": "python",
   "nbconvert_exporter": "python",
   "pygments_lexer": "ipython3",
   "version": "3.7.7"
  }
 },
 "nbformat": 4,
 "nbformat_minor": 4
}
